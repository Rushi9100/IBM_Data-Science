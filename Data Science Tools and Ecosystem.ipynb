{
 "cells": [
  {
   "cell_type": "markdown",
   "id": "27d55179-c1cf-4b3d-bc88-1f3436aba4cf",
   "metadata": {},
   "source": [
    "# Data Science Tools and Ecosystem"
   ]
  },
  {
   "cell_type": "markdown",
   "id": "e1f0a741-c0a7-416a-90ba-cec68d435073",
   "metadata": {},
   "source": [
    "## In this notebook, Data Science Tools and Ecosystem are summarized."
   ]
  },
  {
   "cell_type": "markdown",
   "id": "0cb7c28c-793a-4557-9763-c39ac7742d29",
   "metadata": {},
   "source": [
    "## **Objectives**:\n",
    "- Popular lunguages for Data Science\n",
    "- Commonly used libraries for Data Science\n",
    "- Open source development tools in Data Science\n",
    "- Arithmetic expressions in Python\n",
    "- Use of Markdown Cells"
   ]
  },
  {
   "cell_type": "markdown",
   "id": "346ff1cb-aac5-4fa1-bc9e-bcb8ac68ef2e",
   "metadata": {},
   "source": [
    "\n",
    "### Some of the popular languages that Data Scientists use are:\n",
    "1. Python\n",
    "2. SQL\n",
    "3. R\n",
    "4. Java\n",
    "5. Julia"
   ]
  },
  {
   "cell_type": "markdown",
   "id": "35e204cf-0809-42d4-af8f-7a0d878edf42",
   "metadata": {},
   "source": [
    "### Some of the commonly used libraries used by Data Scientists include:\n",
    "1. Panda\n",
    "2. Numpy\n",
    "3. Matplotlib\n",
    "4. Scikit "
   ]
  },
  {
   "cell_type": "markdown",
   "id": "7c2adad5-5dcb-4205-9a81-7ec2105bfbbd",
   "metadata": {},
   "source": [
    "|Data Science Tools|\n",
    "|------------------|\n",
    "|RStudio|\n",
    "|Hadoop|\n",
    "|Apache Spark|"
   ]
  },
  {
   "cell_type": "markdown",
   "id": "466fb789-a42c-4376-a39f-64e6bddba8e0",
   "metadata": {},
   "source": [
    "### Below are a few examples of evaluating arithmetic expressions in Python."
   ]
  },
  {
   "cell_type": "code",
   "execution_count": 1,
   "id": "aa57c25a-3eff-4fc9-a248-8bdb8e48ee31",
   "metadata": {},
   "outputs": [
    {
     "data": {
      "text/plain": [
       "17"
      ]
     },
     "execution_count": 1,
     "metadata": {},
     "output_type": "execute_result"
    }
   ],
   "source": [
    "#This is a simple arithmetic expression to multiply then add integers.\n",
    "(3*4)+5"
   ]
  },
  {
   "cell_type": "code",
   "execution_count": 4,
   "id": "269018d1-6b94-400e-b337-a41e8419dcd1",
   "metadata": {},
   "outputs": [
    {
     "data": {
      "text/plain": [
       "3.3333333333333335"
      ]
     },
     "execution_count": 4,
     "metadata": {},
     "output_type": "execute_result"
    }
   ],
   "source": [
    "# This will convert 200 minutes to hours by dividing by 60\n",
    "200/60"
   ]
  },
  {
   "cell_type": "markdown",
   "id": "b5072b8d-eb6f-4249-b07c-1df13aeffb02",
   "metadata": {},
   "source": [
    "## Author\n",
    "Rushi Modi"
   ]
  },
  {
   "cell_type": "code",
   "execution_count": null,
   "id": "2ed5a12c-4d89-43b2-aece-b934a4063aea",
   "metadata": {},
   "outputs": [],
   "source": []
  }
 ],
 "metadata": {
  "kernelspec": {
   "display_name": "Python 3 (ipykernel)",
   "language": "python",
   "name": "python3"
  },
  "language_info": {
   "codemirror_mode": {
    "name": "ipython",
    "version": 3
   },
   "file_extension": ".py",
   "mimetype": "text/x-python",
   "name": "python",
   "nbconvert_exporter": "python",
   "pygments_lexer": "ipython3",
   "version": "3.11.7"
  }
 },
 "nbformat": 4,
 "nbformat_minor": 5
}
